{
 "cells": [
  {
   "cell_type": "markdown",
   "id": "aef01691",
   "metadata": {},
   "source": [
    "# sfapi_client Demo"
   ]
  },
  {
   "cell_type": "markdown",
   "id": "a4f9e3ed",
   "metadata": {},
   "source": [
    "We'll start off by importing some libraries we'll be using in the demo"
   ]
  },
  {
   "cell_type": "code",
   "execution_count": null,
   "id": "b3d5d613",
   "metadata": {},
   "outputs": [],
   "source": [
    "from sfapi_client import Client\n",
    "from sfapi_client.compute import Machine\n",
    "from sfapi_client.jobs import JobCommand, JobState\n",
    "\n",
    "from datetime import datetime\n",
    "from pathlib import Path\n",
    "from authlib.jose import JsonWebKey\n",
    "import json\n",
    "from io import BytesIO"
   ]
  },
  {
   "cell_type": "markdown",
   "id": "aba53b8c",
   "metadata": {},
   "source": [
    "***\n",
    "# Exercise 1 - Un-Authenticated Client\n",
    "## Check NERSC Status\n",
    "### These can all be done without a superfacility client\n",
    "***\n",
    "Before we start any computing, let's check that Perlmutter is up."
   ]
  },
  {
   "cell_type": "code",
   "execution_count": null,
   "id": "991c4fa8",
   "metadata": {},
   "outputs": [],
   "source": [
    "with Client() as client:\n",
    "    perlmutter_status = client.resources.status(Machine.perlmutter)\n",
    "\n",
    "perlmutter_status.status"
   ]
  },
  {
   "cell_type": "markdown",
   "id": "7f5fd8d6",
   "metadata": {},
   "source": [
    "We can also check the status of other systems under `resources` in the client"
   ]
  },
  {
   "cell_type": "code",
   "execution_count": null,
   "id": "c5b7f73c",
   "metadata": {},
   "outputs": [],
   "source": [
    "with Client() as client:\n",
    "    nersc_status = client.resources.status()\n",
    "\n",
    "# For each of the resources print the status\n",
    "for name, status in nersc_status.items():\n",
    "    print(f\"{name: <22}| {status.description: <25}| {status.status}\")"
   ]
  },
  {
   "cell_type": "markdown",
   "id": "3f69f6fb",
   "metadata": {},
   "source": [
    "This can also be used to get past and upcoming `outages` "
   ]
  },
  {
   "cell_type": "code",
   "execution_count": null,
   "id": "ce6c8886",
   "metadata": {},
   "outputs": [],
   "source": [
    "with Client() as client:\n",
    "    # Similiar to before but this time let's get the outages\n",
    "    nersc_status = client.resources.outages()\n",
    "\n",
    "# The `nersc_status` object is a dictionary of lists of outages\n",
    "# Get the list you want from the dictionary based on the name\n",
    "print(nersc_status[\"perlmutter\"])"
   ]
  },
  {
   "cell_type": "code",
   "execution_count": null,
   "id": "c0d9b924",
   "metadata": {},
   "outputs": [],
   "source": [
    "# We can check any past or upcoming outages this month\n",
    "today = datetime.now()\n",
    "for outage in nersc_status[\"perlmutter\"]:\n",
    "    if today.month == outage.start_at.month and today.year == outage.start_at.year:\n",
    "        print(outage)\n"
   ]
  },
  {
   "cell_type": "markdown",
   "id": "5a60742f",
   "metadata": {},
   "source": [
    "What if we try to get more information from the API with our client?"
   ]
  },
  {
   "cell_type": "code",
   "execution_count": null,
   "id": "b3e826ac",
   "metadata": {},
   "outputs": [],
   "source": [
    "with Client() as client:\n",
    "    user = client.user()\n",
    "    # We get an error!\n"
   ]
  },
  {
   "cell_type": "markdown",
   "id": "34b69122",
   "metadata": {},
   "source": [
    "# "
   ]
  },
  {
   "cell_type": "markdown",
   "id": "c3f3471c",
   "metadata": {},
   "source": [
    "<br>\n",
    "<br>\n",
    "<br>\n",
    "<br>\n",
    "<br>\n",
    "<br>\n",
    "<br>\n",
    "<br>\n",
    "<br>\n",
    "<br>\n",
    "<br>\n",
    "<br>\n",
    "<br>\n",
    "<br>\n",
    "<br>\n",
    "<br>\n",
    "<br>\n",
    "<br>\n",
    "<br>\n",
    "<br>\n",
    "<br>\n",
    "<br>\n",
    "<br>\n",
    "<br>\n",
    "<br>\n",
    "<br>\n",
    "<br>\n",
    "<br>\n",
    "<br>\n",
    "<br>\n",
    "<br>\n",
    "<br>\n",
    "<br>\n",
    "<br>\n",
    "<br>\n",
    "<br>\n",
    "<br>\n",
    "<br>\n",
    "<br>\n",
    "\n",
    "# Exercise 2 - Authenticated Client \n",
    "## Setup keys and get user and project information\n",
    "***\n",
    "Let's setup keys so we can get some more information\n",
    "I've stored my key is stored in a file in `~/.superfacility/`. Change the path below to where you stored your keys"
   ]
  },
  {
   "cell_type": "code",
   "execution_count": null,
   "id": "6f607376",
   "metadata": {},
   "outputs": [],
   "source": [
    "sf_key_dir = Path().home() / \".superfacility\"\n",
    "\n",
    "for sf_file in sf_key_dir.iterdir():\n",
    "    if sf_file.is_file():\n",
    "        sf_file.chmod(0o600)\n",
    "        print(sf_file.name)"
   ]
  },
  {
   "cell_type": "code",
   "execution_count": null,
   "id": "e6d8291b",
   "metadata": {},
   "outputs": [],
   "source": [
    "# Paste the client_id for the key here\n",
    "client_id = (sf_key_dir / \"clientid.txt\").read_text()\n",
    "\n",
    "# Get the path for your json file here\n",
    "sfapi_key = sf_key_dir / \"priv_key.jwk\"\n",
    "\n",
    "# This opens the json file and reads it into a format the client understands\n",
    "client_secret = JsonWebKey.import_key(json.loads(sfapi_key.read_text()))"
   ]
  },
  {
   "cell_type": "markdown",
   "id": "350013f9",
   "metadata": {},
   "source": [
    "### We'll use these `client_id` and `client_secret` through the rest of our tutorial\n",
    "Lets make sure we're authenticated and check some information from the API"
   ]
  },
  {
   "cell_type": "code",
   "execution_count": null,
   "id": "4a429410",
   "metadata": {},
   "outputs": [],
   "source": [
    "# Create a client\n",
    "with Client(client_id, client_secret) as client:\n",
    "    # Get the user info, \"Who does the api think I am?\"\n",
    "    user = client.user()"
   ]
  },
  {
   "cell_type": "markdown",
   "id": "0a82f557",
   "metadata": {},
   "source": [
    "### All data returned from the API is in an object \n",
    "Obejects are specific for the type of information returned from the API and can be used to get it's attributes or can be returned as dictionaries or json."
   ]
  },
  {
   "cell_type": "code",
   "execution_count": null,
   "id": "03ca18e1",
   "metadata": {},
   "outputs": [],
   "source": [
    "# We got a user object\n",
    "print(type(user).__name__)\n",
    "\n",
    "# The user object has an attribute name which is the nersc username\n",
    "print(user.name)\n",
    "\n",
    "# Or we can return json which can be helpful for serializing to other libraries\n",
    "print(user.model_dump_json(exclude=[\"client\", \"workphone\", \"otherPhones\"]))\n"
   ]
  },
  {
   "cell_type": "markdown",
   "id": "c82f8c11",
   "metadata": {},
   "source": [
    "### We can also get other information from the client about `projects` and `groups` and API `clients` that are associated with the authenticated `user`\n",
    "This is all information you can get from iris.nersc.gov, exposed programatically through the API. "
   ]
  },
  {
   "cell_type": "code",
   "execution_count": null,
   "id": "0d4edcc3",
   "metadata": {},
   "outputs": [],
   "source": [
    "with Client(client_id, client_secret) as client:\n",
    "    # First get the user object\n",
    "    user = client.user()\n",
    "    # Get projects associated with user, hours and CFS storage\n",
    "    projects = user.projects()\n",
    "    # Get groups assocaited with the user\n",
    "    groups = user.groups()\n",
    "    \n",
    "    clients = user.clients()\n",
    "\n",
    "# This is the client I made for the sfapi_training!\n",
    "clients[0]\n"
   ]
  },
  {
   "cell_type": "code",
   "execution_count": null,
   "id": "8fe70605",
   "metadata": {},
   "outputs": [],
   "source": [
    "# For each project\n",
    "# Print the information you want\n",
    "print(\"Project name |        Hours Given | Hours Remaining\")\n",
    "for project in projects:\n",
    "    print(\"=\" * 51)\n",
    "    print(\n",
    "        f\"{project.repo_name: <13}| {project.hours_given:>12.2f} Hours | {project.hours_given - project.hours_used:>8.2f} Hours\"\n",
    "    )\n"
   ]
  },
  {
   "cell_type": "markdown",
   "id": "68261389",
   "metadata": {},
   "source": [
    "# "
   ]
  },
  {
   "cell_type": "markdown",
   "id": "0fa42cd0",
   "metadata": {},
   "source": [
    "<br>\n",
    "<br>\n",
    "<br>\n",
    "<br>\n",
    "<br>\n",
    "<br>\n",
    "<br>\n",
    "<br>\n",
    "<br>\n",
    "<br>\n",
    "<br>\n",
    "<br>\n",
    "<br>\n",
    "<br>\n",
    "<br>\n",
    "<br>\n",
    "<br>\n",
    "<br>\n",
    "<br>\n",
    "<br>\n",
    "<br>\n",
    "<br>\n",
    "<br>\n",
    "<br>\n",
    "<br>\n",
    "<br>\n",
    "<br>\n",
    "<br>\n",
    "<br>\n",
    "<br>\n",
    "<br>\n",
    "<br>\n",
    "<br>\n",
    "<br>\n",
    "<br>\n",
    "<br>\n",
    "<br>\n",
    "<br>\n",
    "<br>\n",
    "\n",
    "# Exercise 3 - Filesystem interactions and small file upload/download\n",
    "## Interact with NERSC Data Transfer Nodes \n",
    "***\n",
    "Now that we have an authneticated client we can interact with NERSC systems\n",
    "\n",
    "Let's make some useful variables for our home and scratch directory that we'll use in the next exercises\n",
    "\n",
    "Your home and scratch paths are based on your username \n",
    "\n",
    "* `/global/homes/username_first_letter/username`\n",
    "* `/pscratch/sd/username_first_letter/username`\n",
    "\n",
    "Bonus points for using the `user` object to automatically generate it"
   ]
  },
  {
   "cell_type": "code",
   "execution_count": null,
   "id": "bed5c86a",
   "metadata": {},
   "outputs": [],
   "source": [
    "home = f\"/global/homes/{user.name[0]}/{user.name}\"\n",
    "scratch = f\"/pscratch/sd/{user.name[0]}/{user.name}\""
   ]
  },
  {
   "cell_type": "markdown",
   "id": "1539b860",
   "metadata": {},
   "source": [
    "Lets make a directory in `$SCRATCH` to put things from the API training demos. We'll use the Data Transfer Nodes for doing these filesystem operations."
   ]
  },
  {
   "cell_type": "code",
   "execution_count": null,
   "id": "6e75729c",
   "metadata": {},
   "outputs": [],
   "source": [
    "with Client(client_id, client_secret) as client:\n",
    "    dtns = client.compute(Machine.dtns)\n",
    "    # This will run a command on dtns, here we use `mkdir` to make our output directory\n",
    "    dtns.run(f\"mkdir -p {scratch}/sfapi-demo\")\n",
    "    # We can run ls on the directory to see that it was created\n",
    "    [output_dir] = dtns.ls(f\"{scratch}/sfapi-demo\", directory=True)\n",
    "\n",
    "# Check that the directory is there\n",
    "output_dir.is_dir()"
   ]
  },
  {
   "cell_type": "markdown",
   "id": "85731436",
   "metadata": {},
   "source": [
    "Next lets upload a small file to that directory and make sure it's there. \n",
    "\n",
    "Since we're uploading a new file that's not there we'll need to get the directory we want to upload the file to with `directory=True` and make sure the file has a `filename` assocaited with it."
   ]
  },
  {
   "cell_type": "code",
   "execution_count": null,
   "id": "19dde873",
   "metadata": {},
   "outputs": [],
   "source": [
    "# What we want in our file\n",
    "file_contents = \"hello world!\"\n",
    "\n",
    "my_input_file = BytesIO(file_contents.encode())\n",
    "# Give our BytesIO file a filename to upload to\n",
    "my_input_file.filename = \"hello.txt\"\n",
    "\n",
    "with Client(client_id, client_secret) as client:\n",
    "    dtns = client.compute(Machine.dtns)\n",
    "    print(f\"There are {len(dtns.ls(f'{scratch}/sfapi-demo'))} files in the directory\")\n",
    "    [input_file_dir] = dtns.ls(f\"{scratch}/sfapi-demo\", directory=True)\n",
    "    # Upload the input file to the directoy object\n",
    "    input_file_dir.upload(my_input_file)\n",
    "    print(f\"Now there's {len(dtns.ls(f'{scratch}/sfapi-demo'))} files in the directory\")\n"
   ]
  },
  {
   "cell_type": "markdown",
   "id": "1a2a4b4f",
   "metadata": {},
   "source": [
    "Lets verify that we put some text in that file"
   ]
  },
  {
   "cell_type": "code",
   "execution_count": null,
   "id": "98514b10",
   "metadata": {},
   "outputs": [],
   "source": [
    "with Client(client_id, client_secret) as client:\n",
    "    dtn = client.compute(Machine.dtns)\n",
    "    # Search for the file with ls\n",
    "    [out_file] = dtn.ls(f\"{scratch}/sfapi-demo/hello.txt\")\n",
    "    # Then download and read the file\n",
    "    contents = out_file.download()\n",
    "    print(contents.read())\n"
   ]
  },
  {
   "cell_type": "markdown",
   "id": "0420acac",
   "metadata": {},
   "source": [
    "Once the file is there we can easily upload to it again, but be careful as the file will be completly overwriten with out new contents."
   ]
  },
  {
   "cell_type": "code",
   "execution_count": null,
   "id": "754a53ea",
   "metadata": {},
   "outputs": [],
   "source": [
    "new_file_contests = \"\"\"\n",
    "\n",
    "Hello from the API!\n",
    "\n",
    "\"\"\"\n",
    "\n",
    "with Client(client_id, client_secret) as client:\n",
    "    dtn = client.compute(Machine.dtns)\n",
    "    # ls the file we want to upload to\n",
    "    [input_file] = dtn.ls(f\"{scratch}/sfapi-demo/hello.txt\")\n",
    "    # Upload the new contents\n",
    "    input_file.upload(BytesIO(new_file_contests.encode()))\n",
    "\n",
    "    contents = input_file.download()\n",
    "    print(contents.read())\n"
   ]
  },
  {
   "cell_type": "markdown",
   "id": "c859415d",
   "metadata": {},
   "source": [
    "# "
   ]
  },
  {
   "cell_type": "markdown",
   "id": "cdd10bee",
   "metadata": {},
   "source": [
    "# "
   ]
  },
  {
   "cell_type": "markdown",
   "id": "cc1b0e15",
   "metadata": {},
   "source": [
    "<br>\n",
    "<br>\n",
    "<br>\n",
    "<br>\n",
    "<br>\n",
    "<br>\n",
    "<br>\n",
    "<br>\n",
    "<br>\n",
    "<br>\n",
    "<br>\n",
    "<br>\n",
    "<br>\n",
    "<br>\n",
    "<br>\n",
    "<br>\n",
    "<br>\n",
    "<br>\n",
    "<br>\n",
    "<br>\n",
    "<br>\n",
    "<br>\n",
    "<br>\n",
    "<br>\n",
    "<br>\n",
    "<br>\n",
    "<br>\n",
    "<br>\n",
    "<br>\n",
    "<br>\n",
    "<br>\n",
    "<br>\n",
    "<br>\n",
    "<br>\n",
    "<br>\n",
    "<br>\n",
    "<br>\n",
    "<br>\n",
    "<br>\n",
    "\n",
    "# Exercise 4 - Interacting with Perlmutter\n",
    "## Getting job information and submitting batch work\n",
    "***\n",
    "\n",
    "Now we'll connect to perlmutter and interact with Slurm to get information about past jobs as well as submit work to Slurm. Lets check how many jobs are currently running."
   ]
  },
  {
   "cell_type": "code",
   "execution_count": null,
   "id": "56390f83",
   "metadata": {},
   "outputs": [],
   "source": [
    "with Client(client_id, client_secret) as client:\n",
    "    perlmutter = client.compute(Machine.perlmutter)\n",
    "    current_jobs = perlmutter.jobs(command=JobCommand.squeue)\n",
    "\n",
    "running_jobs = [job for job in current_jobs if job.state == JobState.RUNNING]\n",
    "len(running_jobs)\n"
   ]
  },
  {
   "cell_type": "markdown",
   "id": "3c9bff63",
   "metadata": {},
   "source": [
    "#"
   ]
  },
  {
   "cell_type": "markdown",
   "id": "adf2e5c9",
   "metadata": {},
   "source": [
    "Now lets run a job and see how to interact with the job with the API. We'll start with a very simple python code to generate random numbers."
   ]
  },
  {
   "cell_type": "code",
   "execution_count": null,
   "id": "c65946f1",
   "metadata": {},
   "outputs": [],
   "source": [
    "N = 10000\n",
    "account = project.name\n",
    "qos = \"debug\"\n",
    "\n",
    "job_script = f\"\"\"#!/bin/bash\n",
    "\n",
    "#SBATCH -q {qos}\n",
    "#SBATCH -A {account}\n",
    "#SBATCH -N 1\n",
    "#SBATCH -n 1\n",
    "#SBATCH -C cpu\n",
    "#SBATCH -t 00:02:00\n",
    "#SBATCH -J sfapi-demo\n",
    "#SBATCH --chdir={scratch}/sfapi-demo\n",
    "#SBATCH --output={scratch}/sfapi-demo/sfapi-demo-%j.out\n",
    "#SBATCH --error={scratch}/sfapi-demo/sfapi-demo-%j.error\n",
    "\n",
    "module load python\n",
    "# Prints N random numbers to form a normal disrobution\n",
    "python -c \"import numpy as np; numbers = np.random.normal(size={N}); [print(n) for n in numbers]\"\n",
    "\"\"\"\n",
    "\n",
    "print(job_script)\n"
   ]
  },
  {
   "cell_type": "code",
   "execution_count": null,
   "id": "b31042e1",
   "metadata": {},
   "outputs": [],
   "source": [
    "with Client(client_id, client_secret) as client:\n",
    "    perlmutter = client.compute(Machine.perlmutter)\n",
    "    # Jobs can be submitted from\n",
    "    job = perlmutter.submit_job(job_script)\n",
    "    # Let's save the job id to use later\n",
    "    job_id = job.jobid\n",
    "    print(f\"Started {job_id}!\")\n"
   ]
  },
  {
   "cell_type": "code",
   "execution_count": null,
   "id": "3cd17010",
   "metadata": {},
   "outputs": [],
   "source": [
    "with Client(client_id, client_secret) as client:\n",
    "    perlmutter = client.compute(Machine.perlmutter)\n",
    "    job = perlmutter.job(jobid=job_id)\n",
    "    print(job.state)"
   ]
  },
  {
   "cell_type": "markdown",
   "id": "c6752959",
   "metadata": {},
   "source": [
    "You can also have the client wait for the job to complete. It will poll the API until the job is in a ternimal state."
   ]
  },
  {
   "cell_type": "code",
   "execution_count": null,
   "id": "06154ebf",
   "metadata": {},
   "outputs": [],
   "source": [
    "with Client(client_id, client_secret) as client:\n",
    "    perlmutter = client.compute(Machine.perlmutter)\n",
    "    job = perlmutter.job(jobid=job_id)\n",
    "    job.complete()\n"
   ]
  },
  {
   "cell_type": "markdown",
   "id": "9bec1eb5",
   "metadata": {},
   "source": [
    "Now the job is done let's download the results file and read it into a variable."
   ]
  },
  {
   "cell_type": "code",
   "execution_count": null,
   "id": "64afc4c1",
   "metadata": {},
   "outputs": [],
   "source": [
    "with Client(client_id, client_secret) as client:\n",
    "    perlmutter = client.compute(Machine.perlmutter)\n",
    "    [output_file] = perlmutter.ls(f\"{scratch}/sfapi-demo/sfapi-demo-{job.jobid}.out\")\n",
    "    print(f\"Is the file there? {output_file.is_file()}\")\n",
    "    \n",
    "    output_file_numbers = output_file.download()\n",
    "    output_numbers = output_file_numbers.read()"
   ]
  },
  {
   "cell_type": "markdown",
   "id": "21ccce79",
   "metadata": {},
   "source": [
    "Then we can look at our output results from the job we ran."
   ]
  },
  {
   "cell_type": "code",
   "execution_count": null,
   "id": "da2340d1",
   "metadata": {},
   "outputs": [],
   "source": [
    "import matplotlib.pyplot as plt\n",
    "\n",
    "# Convert text numbers into a list we can use with matplotlib\n",
    "numers = list(map(float, output_numbers.split(\"\\n\")[:-1]))\n",
    "\n",
    "plt.hist(numers, bins=100)\n",
    "plt.show()"
   ]
  }
 ],
 "metadata": {
  "kernelspec": {
   "display_name": ".venv",
   "language": "python",
   "name": "python3"
  },
  "language_info": {
   "codemirror_mode": {
    "name": "ipython",
    "version": 3
   },
   "file_extension": ".py",
   "mimetype": "text/x-python",
   "name": "python",
   "nbconvert_exporter": "python",
   "pygments_lexer": "ipython3",
   "version": "3.9.6"
  }
 },
 "nbformat": 4,
 "nbformat_minor": 5
}
