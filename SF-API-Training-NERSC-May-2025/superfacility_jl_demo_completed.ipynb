{
 "cells": [
  {
   "cell_type": "markdown",
   "id": "9f8380ed-67b3-45d6-b849-58b6898ad10b",
   "metadata": {},
   "source": [
    "<br>\n",
    "<br>\n",
    "<br>\n",
    "<br>\n",
    "<br>\n",
    "<br>\n",
    "<br>\n",
    "<br>\n",
    "<br>\n",
    "<br>\n",
    "<br>\n",
    "<br>\n",
    "<br>\n",
    "<br>\n",
    "<br>\n",
    "<br>\n",
    "<br>\n",
    "<br>\n",
    "<br>\n",
    "\n",
    "***\n",
    "\n",
    "**Disclaimer:** The `SFAPI` module is very much a work in progress! We very much encourage Discussions, Issues, Bug Reports, and Pull Requests here: https://github.com/NERSC/Superfacility.jl\n",
    "\n",
    "***\n",
    "\n",
    "<br>\n",
    "<br>\n",
    "<br>\n",
    "<br>\n",
    "<br>\n",
    "<br>\n",
    "<br>\n",
    "<br>\n",
    "<br>\n",
    "<br>\n",
    "<br>\n",
    "<br>\n",
    "<br>\n",
    "<br>\n",
    "<br>\n",
    "<br>\n",
    "<br>\n",
    "<br>\n",
    "<br>\n",
    "<br>"
   ]
  },
  {
   "cell_type": "markdown",
   "id": "18e8cec4-67fd-48ab-8541-4e4facda22a8",
   "metadata": {},
   "source": [
    "# Superfacility.jl Demo"
   ]
  },
  {
   "cell_type": "markdown",
   "id": "e1bb6b03-3eca-4a2d-80ad-06a8f4348a26",
   "metadata": {},
   "source": [
    "In Julia we use `Project.toml` to define our dependencies:"
   ]
  },
  {
   "cell_type": "code",
   "execution_count": null,
   "id": "5ffa4363-56a2-49fe-a06e-50e1625647c7",
   "metadata": {},
   "outputs": [],
   "source": [
    "using Pkg\n",
    "Pkg.activate(@__DIR__)"
   ]
  },
  {
   "cell_type": "markdown",
   "id": "84d79f89-2443-4790-865d-7b334e5eb28f",
   "metadata": {},
   "source": [
    "We're now using the local project, let's make sure everything is installed by using `Pkg.instantiate`"
   ]
  },
  {
   "cell_type": "code",
   "execution_count": null,
   "id": "5ce39d6e-1ba9-4d32-863b-ccbddbbd575b",
   "metadata": {},
   "outputs": [],
   "source": [
    "Pkg.instantiate()"
   ]
  },
  {
   "cell_type": "markdown",
   "id": "bbe4ec7c-ac23-470b-9786-7c3fc77eafd6",
   "metadata": {},
   "source": [
    "This will create a `Manifest.tmol` which contains the precise versions, and dependencies of all packages. We recommend instantiating a fresh manifest for each machine you work on rather than copying the `Manifest.toml` file because package versions depend on the Julia version, operating system, and system libraries. So it's not meant to be portable!"
   ]
  },
  {
   "cell_type": "markdown",
   "id": "f8ad0491-e877-4e33-bd45-49a74422c5ac",
   "metadata": {},
   "source": [
    "For the paranoid, you can using `Pkg.status` to check that you're in the right environment, and where each dependency is at:"
   ]
  },
  {
   "cell_type": "code",
   "execution_count": null,
   "id": "619c1829-3b73-4141-a746-d6253749063c",
   "metadata": {},
   "outputs": [],
   "source": [
    "Pkg.status()"
   ]
  },
  {
   "cell_type": "markdown",
   "id": "7f905339-e388-4c1f-a51c-434bd92eb812",
   "metadata": {},
   "source": [
    "I'm going to import a bunch of packages that we will use later:"
   ]
  },
  {
   "cell_type": "code",
   "execution_count": null,
   "id": "cc8a00bb-1675-4794-be6b-5e47b5c87eb7",
   "metadata": {},
   "outputs": [],
   "source": [
    "using JSON\n",
    "using Dates\n",
    "using TimeZones\n",
    "using Chain\n",
    "using ResultTypes\n",
    "using PrettyTables\n",
    "\n",
    "using Base: @kwdef"
   ]
  },
  {
   "cell_type": "markdown",
   "id": "13d95bf4-ca8e-409d-a3bd-0303a8cac589",
   "metadata": {},
   "source": [
    "To use the Superfacility API from Julia, import the `SFAPI` module form the `Superfacility` package (the `Project.toml` will list `Superfacility` as on of the project's dependencies"
   ]
  },
  {
   "cell_type": "code",
   "execution_count": null,
   "id": "e4e7af38-d52f-471b-9b71-36f248e4b92b",
   "metadata": {},
   "outputs": [],
   "source": [
    "using Superfacility: SFAPI"
   ]
  },
  {
   "cell_type": "markdown",
   "id": "aba53b8c",
   "metadata": {},
   "source": [
    "***\n",
    "# Intro and Exercise 1 - Un-Authenticated Client\n",
    "## Check NERSC Status\n",
    "### These can all be done without a superfacility client\n",
    "***\n",
    "Before we start any computing, let's check that Perlmutter is up."
   ]
  },
  {
   "cell_type": "markdown",
   "id": "08a26ccd-a415-42cf-b1ba-1a39f24d98ff",
   "metadata": {},
   "source": [
    "Superfacility.jl tries to give you low-level access to the SFAPI, so most of the work is done by the `Query` module. This will return any query results as a dictionary:"
   ]
  },
  {
   "cell_type": "code",
   "execution_count": null,
   "id": "ab91c0c0-327c-4435-8186-f9b8b1a04cdf",
   "metadata": {},
   "outputs": [],
   "source": [
    "SFAPI.Query.get(\"status\")"
   ]
  },
  {
   "cell_type": "markdown",
   "id": "ef816c38-4b8c-4183-9e08-22780e686572",
   "metadata": {},
   "source": [
    "We provide som convenience classes, to make working with SFAPI query results easier -- note that those are a work in progress: as you will see later, for more advanced use cases you will need to use your own convenicence functions"
   ]
  },
  {
   "cell_type": "code",
   "execution_count": null,
   "id": "3e89f681-3dad-44aa-bd7d-11bbdf2d2464",
   "metadata": {},
   "outputs": [],
   "source": [
    "SFAPI.Status.CenterStatus(SFAPI.Query.get(\"status\"))"
   ]
  },
  {
   "cell_type": "code",
   "execution_count": null,
   "id": "9dc85dde-aba0-4b4c-befd-412501ddf61e",
   "metadata": {},
   "outputs": [],
   "source": [
    "center_status = SFAPI.Status.CenterStatus(SFAPI.Query.get(\"status\"))\n",
    "perlmutter_status = only(filter(x->x.name == \"perlmutter\", center_status))"
   ]
  },
  {
   "cell_type": "markdown",
   "id": "4b411f04-4fbb-4e44-8b82-d338963d2976",
   "metadata": {},
   "source": [
    "Julia has a pipeline syntax -- which might be easier to understand for folks that think in pipes:"
   ]
  },
  {
   "cell_type": "code",
   "execution_count": null,
   "id": "d1715d2f-d0cb-426d-81ad-e7f33e6d0c35",
   "metadata": {},
   "outputs": [],
   "source": [
    "SFAPI.Status.CenterStatus(SFAPI.Query.get(\"status\")) |> filter(x->x.name == \"perlmutter\") |> only"
   ]
  },
  {
   "cell_type": "markdown",
   "id": "db156441-4b54-4853-ae68-e9de96003c8d",
   "metadata": {},
   "source": [
    "Or you just use the right backend (recommended anyway to keep overhead down):"
   ]
  },
  {
   "cell_type": "code",
   "execution_count": null,
   "id": "2dbae026-aba7-4e1d-ac47-f5c5e367988a",
   "metadata": {},
   "outputs": [],
   "source": [
    "SFAPI.Status.StatusEntry(SFAPI.Query.get(\"status/perlmutter\"))"
   ]
  },
  {
   "cell_type": "code",
   "execution_count": null,
   "id": "8882f32d-ee02-46d3-ace7-e440d03f3548",
   "metadata": {},
   "outputs": [],
   "source": [
    "perlmutter_status.status"
   ]
  },
  {
   "cell_type": "markdown",
   "id": "c6ee6065-3d8b-472d-a763-1bf0caba7dc1",
   "metadata": {},
   "source": [
    "Note that for complex pipelines, we recommend the `Chain.jl` package, which lets you chain function calls more ergonomically:"
   ]
  },
  {
   "cell_type": "code",
   "execution_count": null,
   "id": "b08cbbaf-47f4-4d9c-9907-05af0ce644ed",
   "metadata": {},
   "outputs": [],
   "source": [
    "@chain begin\n",
    "    SFAPI.Query.get(\"status\")\n",
    "    SFAPI.Status.CenterStatus\n",
    "    filter(x->x.name == \"perlmutter\", _)\n",
    "    only\n",
    "    _.status\n",
    "end"
   ]
  },
  {
   "cell_type": "markdown",
   "id": "8cb426db-4592-4f64-b80b-520baf8a7f24",
   "metadata": {},
   "source": [
    "You can get information about a particular class by using the `?` operator:"
   ]
  },
  {
   "cell_type": "code",
   "execution_count": null,
   "id": "3a11de94-601f-4de1-817a-194494b0d324",
   "metadata": {},
   "outputs": [],
   "source": [
    "?SFAPI.Status.StatusEntry"
   ]
  },
  {
   "cell_type": "markdown",
   "id": "67aafd85-f52a-4821-b542-6d0e6054a964",
   "metadata": {},
   "source": [
    "Let's put it all together to make a table of resources and their status:"
   ]
  },
  {
   "cell_type": "code",
   "execution_count": null,
   "id": "6685c89c-c69d-4e96-ad84-46028be3830f",
   "metadata": {},
   "outputs": [],
   "source": [
    "center = @chain begin\n",
    "    SFAPI.Query.get(\"status\")\n",
    "    SFAPI.Status.CenterStatus\n",
    "end\n",
    "\n",
    "pretty_table(hcat(\n",
    "    getproperty.(center, :name), \n",
    "    getproperty.(center, :description), \n",
    "    getproperty.(center, :status)\n",
    "); header=[\"resource name\", \"description\", \"status\"])"
   ]
  },
  {
   "cell_type": "markdown",
   "id": "1c710cb0-856d-47eb-a50e-35136bd6fb8f",
   "metadata": {},
   "source": [
    "Outages don't have a Julia class representing an outage entry, so more manual work will be needed (PRs always welcome):"
   ]
  },
  {
   "cell_type": "code",
   "execution_count": null,
   "id": "225756a5-4c36-4d8f-b658-3811b89b1e6f",
   "metadata": {
    "scrolled": true
   },
   "outputs": [],
   "source": [
    "SFAPI.Query.get(\"status/outages\")"
   ]
  },
  {
   "cell_type": "markdown",
   "id": "3b72517b-0222-4636-997f-46b699a41e9e",
   "metadata": {},
   "source": [
    "Note that `SFAPI.Query` returns a `Result` or an `Error` type (like in Rust!). This way we can check for errors without loads of `try/catch` blocks. If you're confident that you're not going to receive an error (or if you checked for errors already) then you can use `unwrap` to access its contents:"
   ]
  },
  {
   "cell_type": "code",
   "execution_count": null,
   "id": "38819f76-79da-485c-9252-cc6ced2b7740",
   "metadata": {},
   "outputs": [],
   "source": [
    "pm_outages = @chain begin\n",
    "    SFAPI.Query.get(\"status/outages\")\n",
    "    unwrap\n",
    "    filter(x->first(x)[:name] == \"perlmutter\", _)\n",
    "    only\n",
    "end\n",
    "\n",
    "pretty_table(hcat(\n",
    "    getindex.(pm_outages, :start_at), \n",
    "    getindex.(pm_outages, :end_at), \n",
    "    getindex.(pm_outages, :description)\n",
    "); header=[\"start\", \"end\", \"description\"])"
   ]
  },
  {
   "cell_type": "markdown",
   "id": "d2c723ae-a151-473f-8a9b-2b2bfb49b422",
   "metadata": {},
   "source": [
    "Let's filter these to only show recent and upcoming outages:"
   ]
  },
  {
   "cell_type": "code",
   "execution_count": null,
   "id": "281e00cb-1551-499e-a3ea-fb06a052685a",
   "metadata": {},
   "outputs": [],
   "source": [
    "tz_min = now(tz\"America/Los_Angeles\") - Month(2)\n",
    "pm_outages = @chain begin\n",
    "    pm_outages\n",
    "    filter(x->ZonedDateTime(x[:start_at]) < tz_min + Month(4), _)\n",
    "    filter(x->ZonedDateTime(x[:start_at]) > tz_min, _)\n",
    "end\n",
    "\n",
    "pretty_table(hcat(\n",
    "    getindex.(pm_outages, :start_at), \n",
    "    getindex.(pm_outages, :end_at), \n",
    "    getindex.(pm_outages, :description)\n",
    "); header=[\"start\", \"end\", \"description\"])"
   ]
  },
  {
   "cell_type": "markdown",
   "id": "c3f3471c",
   "metadata": {},
   "source": [
    "<br>\n",
    "<br>\n",
    "<br>\n",
    "<br>\n",
    "<br>\n",
    "<br>\n",
    "<br>\n",
    "<br>\n",
    "<br>\n",
    "<br>\n",
    "<br>\n",
    "<br>\n",
    "<br>\n",
    "<br>\n",
    "<br>\n",
    "<br>\n",
    "<br>\n",
    "<br>\n",
    "<br>\n",
    "<br>\n",
    "<br>\n",
    "<br>\n",
    "<br>\n",
    "<br>\n",
    "<br>\n",
    "<br>\n",
    "<br>\n",
    "<br>\n",
    "<br>\n",
    "<br>\n",
    "<br>\n",
    "<br>\n",
    "<br>\n",
    "<br>\n",
    "<br>\n",
    "<br>\n",
    "<br>\n",
    "<br>\n",
    "<br>\n",
    "\n",
    "# Exercise 2 - Authenticated Client \n",
    "## Setup keys and get user and project information\n",
    "***\n",
    "Let's set up a client, with which we fetch SFAPI tokens.\n",
    "I've stored my key is stored in a file in `~/.superfacility/`. Change the path below to where you stored your keys. \n",
    "\n",
    "**Important:** `SFAPI.Token.Client` expects keys in PEM format called `priv_key.pem` and `pub_key.pem`. The client ID string needs tobe stored in `clientid.txt`. The idea is that you can just download these straight from iris.nersc.gov without needing to modify, or rename anything :)"
   ]
  },
  {
   "cell_type": "code",
   "execution_count": null,
   "id": "2466e6b4-28e6-40a7-afe4-d9673bf12434",
   "metadata": {},
   "outputs": [],
   "source": [
    "client = SFAPI.Token.Client(joinpath(homedir(), \".superfacility\"))"
   ]
  },
  {
   "cell_type": "code",
   "execution_count": null,
   "id": "8dd03e41-9a41-4457-892c-79e4a51a7a09",
   "metadata": {},
   "outputs": [],
   "source": [
    "tc = SFAPI.Token.fetch(client) |> unwrap"
   ]
  },
  {
   "cell_type": "code",
   "execution_count": null,
   "id": "587e41f6-ec4a-4632-8d2a-e9945260e4cb",
   "metadata": {},
   "outputs": [],
   "source": [
    "account = SFAPI.Account.User(SFAPI.Query.get(\"account\", tc.token))"
   ]
  },
  {
   "cell_type": "markdown",
   "id": "611a7a1a-73cc-4c36-890f-055ab8915bc5",
   "metadata": {},
   "source": [
    "Tokens can go stale, so that's what the `SFAPI.Token.refresh` function is for:"
   ]
  },
  {
   "cell_type": "code",
   "execution_count": null,
   "id": "dff2677c-3fc0-42c4-97f2-03018e60f5ee",
   "metadata": {},
   "outputs": [],
   "source": [
    "? SFAPI.Account.User"
   ]
  },
  {
   "cell_type": "code",
   "execution_count": null,
   "id": "9e9f41ec-f1de-40d5-b7ce-5492ed326655",
   "metadata": {},
   "outputs": [],
   "source": [
    "tc = SFAPI.Token.refresh(tc)"
   ]
  },
  {
   "cell_type": "markdown",
   "id": "6f58d074-5bd9-4acb-af24-00e90f3516f8",
   "metadata": {},
   "source": [
    "It only refreshes the token if it's very close to expiring (based on expiration date/time). So it's good practise to call this function every time you make an authenticated API call:"
   ]
  },
  {
   "cell_type": "code",
   "execution_count": null,
   "id": "78d6ea02-8490-4e91-b7e9-a1af7c021baf",
   "metadata": {
    "scrolled": true
   },
   "outputs": [],
   "source": [
    "tc = SFAPI.Token.refresh(tc)\n",
    "projects = SFAPI.Query.get(\"account/projects\", tc.token)\n",
    "JSON.print(projects, 4)"
   ]
  },
  {
   "cell_type": "markdown",
   "id": "0fa42cd0",
   "metadata": {},
   "source": [
    "<br>\n",
    "<br>\n",
    "<br>\n",
    "<br>\n",
    "<br>\n",
    "<br>\n",
    "<br>\n",
    "<br>\n",
    "<br>\n",
    "<br>\n",
    "<br>\n",
    "<br>\n",
    "<br>\n",
    "<br>\n",
    "<br>\n",
    "<br>\n",
    "<br>\n",
    "<br>\n",
    "<br>\n",
    "<br>\n",
    "<br>\n",
    "<br>\n",
    "<br>\n",
    "<br>\n",
    "<br>\n",
    "<br>\n",
    "<br>\n",
    "<br>\n",
    "<br>\n",
    "<br>\n",
    "<br>\n",
    "<br>\n",
    "<br>\n",
    "<br>\n",
    "<br>\n",
    "<br>\n",
    "<br>\n",
    "<br>\n",
    "<br>\n",
    "\n",
    "# Exercise 3 - Filesystem interactions, executing commands, and small file upload/download\n",
    "## Interact with NERSC Data Transfer Nodes \n",
    "***\n",
    "Now that we have an authneticated client we can interact with NERSC systems\n",
    "\n",
    "Let's make some useful variables for our home and scratch directory that we'll use in the next exercises\n",
    "\n",
    "Your home and scratch paths are based on your username \n",
    "\n",
    "* `/global/homes/username_first_letter/username`\n",
    "* `/pscratch/sd/username_first_letter/username`\n",
    "\n",
    "Bonus points for using the `user` object to automatically generate it"
   ]
  },
  {
   "cell_type": "code",
   "execution_count": null,
   "id": "c8a422a5-abba-4822-b98c-206e9343acbf",
   "metadata": {},
   "outputs": [],
   "source": [
    "home = \"/global/homes/$(account.name[1])/$(account.name)\"\n",
    "scratch = \"/pscratch/sd/$(account.name[1])/$(account.name)\""
   ]
  },
  {
   "cell_type": "code",
   "execution_count": null,
   "id": "c4e08cb4-ef34-42e7-95e3-32c4912d8c4d",
   "metadata": {},
   "outputs": [],
   "source": [
    "tc = SFAPI.Token.refresh(tc)\n",
    "ls = SFAPI.Ls.Dir(SFAPI.Query.get(\"utilities/ls/dtns/$(scratch)\", tc.token))\n",
    "for e in ls.entries\n",
    "    println(e)\n",
    "end"
   ]
  },
  {
   "cell_type": "markdown",
   "id": "4f0d7dce-a72f-4560-9173-bb3c6aab1da0",
   "metadata": {},
   "source": [
    "### Excursion: Remote Command Execution"
   ]
  },
  {
   "cell_type": "code",
   "execution_count": null,
   "id": "912ad8d2-7107-4a1a-8859-a76ec4f37398",
   "metadata": {},
   "outputs": [],
   "source": [
    "tc = SFAPI.Token.refresh(tc)\n",
    "cmd = SFAPI.Executable.run(\"ls $(scratch)\", tc)"
   ]
  },
  {
   "cell_type": "markdown",
   "id": "85cab666-54d8-402b-ba56-8a1f3d96da38",
   "metadata": {},
   "source": [
    "Julia is natively multi-tasking (SFAPI tasks are greedy: they start right away)"
   ]
  },
  {
   "cell_type": "code",
   "execution_count": null,
   "id": "5e23024e-3a13-4c70-9e78-7d417f03d934",
   "metadata": {},
   "outputs": [],
   "source": [
    "t = SFAPI.Executable.result(cmd, tc)"
   ]
  },
  {
   "cell_type": "code",
   "execution_count": null,
   "id": "71ed9c41-beaa-4c95-9447-26adeec4a2dc",
   "metadata": {},
   "outputs": [],
   "source": [
    "istaskdone(t)"
   ]
  },
  {
   "cell_type": "code",
   "execution_count": null,
   "id": "877663ee-d848-4f4f-bdd6-d7b76d897908",
   "metadata": {},
   "outputs": [],
   "source": [
    "fetch(t)"
   ]
  },
  {
   "cell_type": "code",
   "execution_count": null,
   "id": "7bab496a-50f8-4530-8552-1acd4a9c13da",
   "metadata": {},
   "outputs": [],
   "source": [
    "cmd_str = \"sleep 10\\necho hi\"\n",
    "println(cmd_str)"
   ]
  },
  {
   "cell_type": "code",
   "execution_count": null,
   "id": "ebb8ec3a-25f2-4ca4-84a9-d779f251172e",
   "metadata": {},
   "outputs": [],
   "source": [
    "tc = SFAPI.Token.refresh(tc)\n",
    "cmd = SFAPI.Executable.run( \n",
    "    \"cat << EOF | bash\\n$(cmd_str)\\nEOF\" ,\n",
    "    tc\n",
    ")"
   ]
  },
  {
   "cell_type": "code",
   "execution_count": null,
   "id": "64db39bb-b234-4fb9-be2c-15d05c00b9f9",
   "metadata": {},
   "outputs": [],
   "source": [
    "t = SFAPI.Executable.result(cmd, tc)\n",
    "while ! istaskdone(t)\n",
    "    println(\"Wating for result ...\")\n",
    "    sleep(1)\n",
    "end\n",
    "println(fetch(t))"
   ]
  },
  {
   "cell_type": "markdown",
   "id": "e5f74428-7332-4f09-b289-5a48c188bd34",
   "metadata": {},
   "source": [
    "## Using Remote Command Execution to Create Files"
   ]
  },
  {
   "cell_type": "markdown",
   "id": "9ec0062d-c8a2-4612-84f6-f600ab0571d3",
   "metadata": {},
   "source": [
    "The `upload` endpoint is currently not supported :( -- again PRs welcom ;)"
   ]
  },
  {
   "cell_type": "markdown",
   "id": "d0f35568-6f16-4136-ab99-2aa7811014f1",
   "metadata": {},
   "source": [
    "So we're going to hack this in here using the `command` endpoint:"
   ]
  },
  {
   "cell_type": "markdown",
   "id": "e2e45f45-5ce9-4a3e-bab4-b01a4712383f",
   "metadata": {},
   "source": [
    "First, let's make sure that the directory in which we'll be working at NERSC exists:"
   ]
  },
  {
   "cell_type": "code",
   "execution_count": null,
   "id": "4f0fac05-b04c-4b6e-949f-647d1517362f",
   "metadata": {},
   "outputs": [],
   "source": [
    "tc = SFAPI.Token.refresh(tc)\n",
    "cmd = SFAPI.Executable.run( \n",
    "    \"mkdir -p $(scratch)/sfapi\",\n",
    "    tc\n",
    ")\n",
    "\n",
    "t = SFAPI.Executable.result(cmd, tc)\n",
    "while ! istaskdone(t)\n",
    "    println(\"Wating for result ...\")\n",
    "    sleep(1)\n",
    "end\n",
    "println(fetch(t))"
   ]
  },
  {
   "cell_type": "markdown",
   "id": "858f3168-c11d-4dc7-b0e6-5b81c932188d",
   "metadata": {},
   "source": [
    "Let's create a job script:"
   ]
  },
  {
   "cell_type": "code",
   "execution_count": null,
   "id": "5df538aa-5174-4933-8886-9f97cc583e3a",
   "metadata": {},
   "outputs": [],
   "source": [
    "job_script = \"\"\"#!/bin/bash\n",
    "#SBATCH -q regular\n",
    "#SBATCH -A nstaff\n",
    "#SBATCH -N 1\n",
    "#SBATCH -C cpu\n",
    "#SBATCH -t 00:05:00\n",
    "#SBATCH -J sfapi-test\n",
    "#SBATCH --output=$(scratch)/sfapi/test.out\n",
    "#SBATCH --error=$(scratch)/sfapi/test.error\n",
    "\n",
    "echo \"hi\"\n",
    "\"\"\"\n",
    "\n",
    "job_script_file = \"$(scratch)/sfapi/test.sh\"\n",
    "\n",
    "println(job_script)"
   ]
  },
  {
   "cell_type": "markdown",
   "id": "d6a486d8-80ba-4dfb-9f65-1aa59bf83617",
   "metadata": {},
   "source": [
    "And let's upload the jobscript using our `SFAPI.Executable.run` hack:"
   ]
  },
  {
   "cell_type": "code",
   "execution_count": null,
   "id": "9d0006f9-e3ff-42c3-a043-61471a89da4e",
   "metadata": {},
   "outputs": [],
   "source": [
    "tc = SFAPI.Token.refresh(tc)\n",
    "cmd = SFAPI.Executable.run( \n",
    "    \"cat > $(job_script_file) << EOF\\n$(job_script)EOF\",\n",
    "    tc\n",
    ")\n",
    "\n",
    "t = SFAPI.Executable.result(cmd, tc)\n",
    "while ! istaskdone(t)\n",
    "    println(\"Wating for result ...\")\n",
    "    sleep(1)\n",
    "end\n",
    "println(fetch(t))"
   ]
  },
  {
   "cell_type": "markdown",
   "id": "0e63c97e-6639-4759-a19d-650ea1b02439",
   "metadata": {},
   "source": [
    "Because we're paranoid, let's check that the jobscript is where we expect it to be:"
   ]
  },
  {
   "cell_type": "code",
   "execution_count": null,
   "id": "7fd3439c-2bf1-4094-bc09-10c6b63c1b32",
   "metadata": {},
   "outputs": [],
   "source": [
    "tc = SFAPI.Token.refresh(tc)\n",
    "cmd = SFAPI.Executable.run(\n",
    "    \"ls $(job_script_file)\",\n",
    "    tc\n",
    ")\n",
    "\n",
    "t = SFAPI.Executable.result(cmd, tc)\n",
    "while ! istaskdone(t)\n",
    "    println(\"Wating for result ...\")\n",
    "    sleep(1)\n",
    "end\n",
    "r = fetch(t)"
   ]
  },
  {
   "cell_type": "markdown",
   "id": "2b7c57dc-a406-4584-9c16-574642fa5aab",
   "metadata": {},
   "source": [
    "if you see a path to the `test.sh` then we know that it worked :)"
   ]
  },
  {
   "cell_type": "markdown",
   "id": "cc1b0e15",
   "metadata": {},
   "source": [
    "<br>\n",
    "<br>\n",
    "<br>\n",
    "<br>\n",
    "<br>\n",
    "<br>\n",
    "<br>\n",
    "<br>\n",
    "<br>\n",
    "<br>\n",
    "<br>\n",
    "<br>\n",
    "<br>\n",
    "<br>\n",
    "<br>\n",
    "<br>\n",
    "<br>\n",
    "<br>\n",
    "<br>\n",
    "<br>\n",
    "<br>\n",
    "<br>\n",
    "<br>\n",
    "<br>\n",
    "<br>\n",
    "<br>\n",
    "<br>\n",
    "<br>\n",
    "<br>\n",
    "<br>\n",
    "<br>\n",
    "<br>\n",
    "<br>\n",
    "<br>\n",
    "<br>\n",
    "<br>\n",
    "<br>\n",
    "<br>\n",
    "<br>\n",
    "\n",
    "# Exercise 4 - Interacting with Perlmutter\n",
    "## Getting job information and submitting batch work\n",
    "***\n",
    "\n",
    "Now we'll connect to perlmutter and interact with Slurm to get information about past jobs as well as submit work to Slurm. Lets check how many jobs are currently running."
   ]
  },
  {
   "cell_type": "markdown",
   "id": "81decedd-9823-4ca6-8495-087fb1b6babe",
   "metadata": {},
   "source": [
    "**Important:** This interface is a little unergonomic at the moment, so you need to keep the following in mind:\n",
    "\n",
    "* use `cached=false` to make sure that we're getting an up-to-date list of jobs (there is some caching that speeds things up but also means that you don't get a list of jobs on Perlmutter _right now!_). This comes at the cost of speed: the endpoint runs `squeue` or `sacct` and processes the result.\n",
    "* use `user=<user_name>` since we've already loaded the user account data into the `account` variable, we can use `\"kwargs\" => \"user=$(account.name)\"` .This limits `squeue` / `sacct` to return only jobs relevant to your user account.\n",
    "\n",
    "We'll probably clean this up soon, so your preferences/priorities/use cases (via a GitHub issue) would help move this along. "
   ]
  },
  {
   "cell_type": "code",
   "execution_count": null,
   "id": "d9f100c3-901c-4ee9-b43f-77231fdfb2f6",
   "metadata": {},
   "outputs": [],
   "source": [
    "tc = SFAPI.Token.refresh(tc)\n",
    "x = SFAPI.Query.get(\n",
    "    \"compute/jobs/perlmutter\", tc.token;\n",
    "    parameters=Dict(\n",
    "        \"index\" => \"0\",\n",
    "        \"sacct\" => \"false\",\n",
    "        \"cached\" => \"false\",\n",
    "        \"kwargs\" => \"user=$(account.name)\"\n",
    "    )\n",
    ") |> unwrap"
   ]
  },
  {
   "cell_type": "markdown",
   "id": "f6ec9e70-1f08-414c-8ce5-5767cdafc912",
   "metadata": {},
   "source": [
    "Let's look at any job data in a more user-friendly way using the `JSON` library:"
   ]
  },
  {
   "cell_type": "code",
   "execution_count": null,
   "id": "07a7c39b-6601-46e0-b834-a21f0684a987",
   "metadata": {},
   "outputs": [],
   "source": [
    "JSON.print(x[:output], 4)"
   ]
  },
  {
   "cell_type": "markdown",
   "id": "ef43a33c-1f0f-49ea-9d1e-f7d3d3cc4d0b",
   "metadata": {},
   "source": [
    "Next we'll submit a new job -- often you want to submit the job alonside of the jobscript (so that Slurm uses the \"right\" working directory for stdout). In Julia we can use `@chain` to break up the jobscript path, drop the file name (i.e. leave only the directory part) by dropping the last element of the path array, and generate a path from that:"
   ]
  },
  {
   "cell_type": "code",
   "execution_count": null,
   "id": "51583acb-5f98-4316-aa15-15010009066f",
   "metadata": {},
   "outputs": [],
   "source": [
    "job_script_dir = @chain begin\n",
    "    job_script_file\n",
    "    splitpath         # break the path up into its individual pieces\n",
    "    _[1:end-1]        # drop the last element (the file name part)\n",
    "    joinpath          # create a fresh path (without the file name)\n",
    "end"
   ]
  },
  {
   "cell_type": "markdown",
   "id": "267ccc72-2bb5-49df-85f2-d5257b64d548",
   "metadata": {},
   "source": [
    "And now we can submit the job (`cd`'ing into the job dir first):"
   ]
  },
  {
   "cell_type": "code",
   "execution_count": null,
   "id": "74c39513-cc8d-4ba6-a7e2-0784751045a7",
   "metadata": {},
   "outputs": [],
   "source": [
    "tc = SFAPI.Token.refresh(tc)\n",
    "cmd = SFAPI.Executable.run(\n",
    "    \"cd $(job_script_dir)\\nsbatch $(job_script_file)\",\n",
    "    tc\n",
    ")\n",
    "\n",
    "t = SFAPI.Executable.result(cmd, tc)\n",
    "while ! istaskdone(t)\n",
    "    println(\"Wating for result ...\")\n",
    "    sleep(1)\n",
    "end\n",
    "r = fetch(t)"
   ]
  },
  {
   "cell_type": "markdown",
   "id": "b66dd589-e7c7-4072-953f-cd9c983c109b",
   "metadata": {},
   "source": [
    "Let's see if we can see our new job in the jobs list:"
   ]
  },
  {
   "cell_type": "code",
   "execution_count": null,
   "id": "80540a62-bca9-42ea-84fb-502821f6dafd",
   "metadata": {},
   "outputs": [],
   "source": [
    "tc = SFAPI.Token.refresh(tc)\n",
    "x = SFAPI.Query.get(\n",
    "    \"compute/jobs/perlmutter\", tc.token;\n",
    "    parameters=Dict(\n",
    "        \"index\" => \"0\",\n",
    "        \"sacct\" => \"false\",\n",
    "        \"cached\" => \"false\",\n",
    "        \"kwargs\" => \"user=$(account.name)\"\n",
    "    )\n",
    ") |> unwrap\n",
    "JSON.print(x[:output], 4)"
   ]
  },
  {
   "cell_type": "code",
   "execution_count": null,
   "id": "ae544db3-4e1f-4c6a-8a76-7298d0a823a0",
   "metadata": {},
   "outputs": [],
   "source": []
  }
 ],
 "metadata": {
  "kernelspec": {
   "display_name": "Julia 1.11.4",
   "language": "julia",
   "name": "julia-1.11"
  },
  "language_info": {
   "file_extension": ".jl",
   "mimetype": "application/julia",
   "name": "julia",
   "version": "1.11.4"
  }
 },
 "nbformat": 4,
 "nbformat_minor": 5
}
