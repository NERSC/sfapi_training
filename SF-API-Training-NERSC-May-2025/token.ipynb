{
 "cells": [
  {
   "cell_type": "markdown",
   "metadata": {},
   "source": [
    "# Getting a token for the SF API"
   ]
  },
  {
   "cell_type": "markdown",
   "metadata": {
    "tags": []
   },
   "source": [
    "### Load wrappers, libraries. \n",
    "Please adjust the \"credentials\" path to wherever you copied the keys."
   ]
  },
  {
   "cell_type": "markdown",
   "metadata": {
    "tags": []
   },
   "source": [
    "### Obtain a _JSON Web Token_ (JWT) to authenticate to the API. Make sure to fill in the json formatted credentials (.jwk) of a client with RED sec level"
   ]
  },
  {
   "cell_type": "code",
   "execution_count": 1,
   "metadata": {
    "tags": []
   },
   "outputs": [
    {
     "ename": "FileNotFoundError",
     "evalue": "[Errno 2] No such file or directory: '/global/homes/b/benders/.superfacilityclientid.txt'",
     "output_type": "error",
     "traceback": [
      "\u001b[0;31m---------------------------------------------------------------------------\u001b[0m",
      "\u001b[0;31mFileNotFoundError\u001b[0m                         Traceback (most recent call last)",
      "Cell \u001b[0;32mIn[1], line 23\u001b[0m\n\u001b[1;32m     20\u001b[0m     client_secret \u001b[38;5;241m=\u001b[39m kf\u001b[38;5;241m.\u001b[39mread()\n\u001b[1;32m     21\u001b[0m     kf\u001b[38;5;241m.\u001b[39mclose()\n\u001b[0;32m---> 23\u001b[0m \u001b[38;5;28;01mwith\u001b[39;00m \u001b[38;5;28;43mopen\u001b[39;49m\u001b[43m(\u001b[49m\u001b[43mclient_id_file\u001b[49m\u001b[43m)\u001b[49m \u001b[38;5;28;01mas\u001b[39;00m kf:\n\u001b[1;32m     24\u001b[0m     client_id \u001b[38;5;241m=\u001b[39m kf\u001b[38;5;241m.\u001b[39mread()\n\u001b[1;32m     25\u001b[0m     kf\u001b[38;5;241m.\u001b[39mclose()\n",
      "File \u001b[0;32m/global/common/software/nersc/pe/conda-envs/24.1.0/python-3.11/nersc-python/lib/python3.11/site-packages/IPython/core/interactiveshell.py:310\u001b[0m, in \u001b[0;36m_modified_open\u001b[0;34m(file, *args, **kwargs)\u001b[0m\n\u001b[1;32m    303\u001b[0m \u001b[38;5;28;01mif\u001b[39;00m file \u001b[38;5;129;01min\u001b[39;00m {\u001b[38;5;241m0\u001b[39m, \u001b[38;5;241m1\u001b[39m, \u001b[38;5;241m2\u001b[39m}:\n\u001b[1;32m    304\u001b[0m     \u001b[38;5;28;01mraise\u001b[39;00m \u001b[38;5;167;01mValueError\u001b[39;00m(\n\u001b[1;32m    305\u001b[0m         \u001b[38;5;124mf\u001b[39m\u001b[38;5;124m\"\u001b[39m\u001b[38;5;124mIPython won\u001b[39m\u001b[38;5;124m'\u001b[39m\u001b[38;5;124mt let you open fd=\u001b[39m\u001b[38;5;132;01m{\u001b[39;00mfile\u001b[38;5;132;01m}\u001b[39;00m\u001b[38;5;124m by default \u001b[39m\u001b[38;5;124m\"\u001b[39m\n\u001b[1;32m    306\u001b[0m         \u001b[38;5;124m\"\u001b[39m\u001b[38;5;124mas it is likely to crash IPython. If you know what you are doing, \u001b[39m\u001b[38;5;124m\"\u001b[39m\n\u001b[1;32m    307\u001b[0m         \u001b[38;5;124m\"\u001b[39m\u001b[38;5;124myou can use builtins\u001b[39m\u001b[38;5;124m'\u001b[39m\u001b[38;5;124m open.\u001b[39m\u001b[38;5;124m\"\u001b[39m\n\u001b[1;32m    308\u001b[0m     )\n\u001b[0;32m--> 310\u001b[0m \u001b[38;5;28;01mreturn\u001b[39;00m \u001b[43mio_open\u001b[49m\u001b[43m(\u001b[49m\u001b[43mfile\u001b[49m\u001b[43m,\u001b[49m\u001b[43m \u001b[49m\u001b[38;5;241;43m*\u001b[39;49m\u001b[43margs\u001b[49m\u001b[43m,\u001b[49m\u001b[43m \u001b[49m\u001b[38;5;241;43m*\u001b[39;49m\u001b[38;5;241;43m*\u001b[39;49m\u001b[43mkwargs\u001b[49m\u001b[43m)\u001b[49m\n",
      "\u001b[0;31mFileNotFoundError\u001b[0m: [Errno 2] No such file or directory: '/global/homes/b/benders/.superfacilityclientid.txt'"
     ]
    }
   ],
   "source": [
    "from authlib.integrations.requests_client import OAuth2Session\n",
    "from authlib.oauth2.rfc7523 import PrivateKeyJWT\n",
    "from authlib.jose import JsonWebKey\n",
    "import os\n",
    "import json\n",
    "\n",
    "token_url = \"https://oidc.nersc.gov/c2id/token\"\n",
    "\n",
    "home = os.environ['HOME']\n",
    "credentials = home + \"/.superfacility\"\n",
    "key_file_jwk = credentials+\"/priv_key.jwk\"\n",
    "key_file_pem = credentials+\"/priv_key.pem\"\n",
    "client_id_file = credentials+'/clientid.txt'\n",
    "\n",
    "with open(key_file_jwk) as kf:\n",
    "    client_secret = JsonWebKey.import_key(json.load(kf))\n",
    "    kf.close()\n",
    "\n",
    "with open(key_file_pem) as kf:\n",
    "    client_secret = kf.read()\n",
    "    kf.close()\n",
    "\n",
    "with open(client_id_file) as kf:\n",
    "    client_id = kf.read()\n",
    "    kf.close()\n",
    "    \n",
    "client = OAuth2Session(client_id=client_id,\n",
    "                        client_secret=client_secret,\n",
    "                        token_endpoint_auth_method=\"private_key_jwt\")\n",
    "client.register_client_auth_method(PrivateKeyJWT(token_url))\n",
    "\n",
    "resp = client.fetch_token(token_url, grant_type=\"client_credentials\")\n",
    "token = resp[\"access_token\"]\n",
    "print(json.dumps(resp,indent=2))\n",
    "print(\"\\n**** JUST THE ACCESS TOKEN ***\\n\")\n",
    "print(token)"
   ]
  },
  {
   "cell_type": "code",
   "execution_count": null,
   "metadata": {},
   "outputs": [],
   "source": []
  }
 ],
 "metadata": {
  "kernelspec": {
   "display_name": "NERSC Python",
   "language": "python",
   "name": "python3"
  },
  "language_info": {
   "codemirror_mode": {
    "name": "ipython",
    "version": 3
   },
   "file_extension": ".py",
   "mimetype": "text/x-python",
   "name": "python",
   "nbconvert_exporter": "python",
   "pygments_lexer": "ipython3",
   "version": "3.11.7"
  }
 },
 "nbformat": 4,
 "nbformat_minor": 4
}
