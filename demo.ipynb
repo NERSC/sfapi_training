{
 "cells": [
  {
   "cell_type": "markdown",
   "metadata": {},
   "source": [
    "# Superfacility API Demo\n"
   ]
  },
  {
   "cell_type": "markdown",
   "metadata": {},
   "source": [
    "## Let's get started! This is an interactive demo of a non-interactive workflow. \n",
    "### It highlights the asynchronous nature of the API and polls the /tasks endpoint."
   ]
  },
  {
   "cell_type": "markdown",
   "metadata": {
    "tags": []
   },
   "source": [
    "### Load wrappers, libraries. \n",
    "Please adjust the \"training\" path to wherever you copied the training materials."
   ]
  },
  {
   "cell_type": "code",
   "execution_count": null,
   "metadata": {
    "tags": []
   },
   "outputs": [],
   "source": [
    "API_URL=\"https://api.nersc.gov/api/v1.2\"\n",
    "jwt = None\n",
    "\n",
    "import urllib\n",
    "import base64\n",
    "import urllib.request\n",
    "import urllib.parse\n",
    "import json\n",
    "import time\n",
    "import os\n",
    "\n",
    "## Adjust here ####\n",
    "home = os.environ['HOME']\n",
    "training = home + \"/sfapi_training\"\n",
    "###################\n",
    "\n",
    "class Task:\n",
    "    \"\"\"\n",
    "    A crude implementation to work with Task\n",
    "    \"\"\"\n",
    "    def __init__(self, task_id=0, status='',error=None, **kwargs):\n",
    "        self.id = task_id\n",
    "        self.status = status\n",
    "        self.error= error\n",
    "        self.result= None\n",
    "        self._nchecked=0\n",
    "        # This is ugly bc the task interface isn't uniform\n",
    "        self.kwargs = kwargs\n",
    "    \n",
    "    def check(self):\n",
    "        _ = api(\"tasks/\"+self.id)\n",
    "        #print(_, self.id)\n",
    "        self.status = _['status']\n",
    "        self.result = _['result']\n",
    "        self._nchecked+=1\n",
    "        if self.result is not None and self.result != 'ok':\n",
    "            res = json.loads(self.result[self.result.find('{'):])\n",
    "            #res = _['result']\n",
    "            #print(res)\n",
    "            if 'status' in res and res['status']=='error': # this is for jobs mostly, so not really in all Tasks\n",
    "                self.status = 'failed'\n",
    "                raise RuntimeError(res['error'].split('\\n')[-2])\n",
    "        return _\n",
    "        \n",
    "    def get_result(self):\n",
    "        if self.status not in ['completed','failed']:\n",
    "            print(\"Task %s is in status '%s' not yet completed\" % (self.id, self.status))\n",
    "            return\n",
    "        elif self.status == 'completed':\n",
    "            try:\n",
    "                return json.loads(self.result)\n",
    "            except:\n",
    "                return self.result\n",
    "            \n",
    "    def wait_for_completed(self, dt=1.0, time_out=2):\n",
    "        t0=time.time()\n",
    "        while self.status not in ['completed','failed']:\n",
    "            time.sleep(dt)\n",
    "            _ = self.check()\n",
    "            print('Poll %02d:' % self._nchecked + str(_), end='\\r')\n",
    "        print()\n",
    "        print(self.result)\n",
    "        return self.result\n",
    "    \n",
    "    def wait_for_result(self):\n",
    "        self.wait_for_completed()\n",
    "        return self.get_result()\n",
    "            \n",
    "   \n",
    "def api(path, data=None, as_form=False):\n",
    "    \"\"\"Make a superfacility api call. \n",
    "    Path is a relative path w/o the leading /. \n",
    "    Data (optional) is a python dictionary.\"\"\"\n",
    "    global jwt\n",
    "    global client\n",
    "    url = \"%s/%s\" % (API_URL, path)\n",
    "    if client.token['expires_at'] < time.time()-100:\n",
    "        print(\"Fetching new token\")\n",
    "        client.fetch_token(token_url, grant_type=\"client_credentials\")\n",
    "    \n",
    "    if data:\n",
    "        ret = client.post(url, data).json()\n",
    "    else:\n",
    "        ret = client.get(url).json()\n",
    "    \n",
    "    if 'task_id' in ret:\n",
    "        return Task(**ret)\n",
    "    else:\n",
    "        return ret\n",
    "   "
   ]
  },
  {
   "cell_type": "markdown",
   "metadata": {
    "tags": []
   },
   "source": [
    "### Obtain a _JSON Web Token_ (JWT) to authenticate to the API. Make sure to fill in the json formatted credentials (.jwk) of a client with RED sec level"
   ]
  },
  {
   "cell_type": "code",
   "execution_count": null,
   "metadata": {
    "tags": []
   },
   "outputs": [],
   "source": [
    "from authlib.integrations.requests_client import OAuth2Session\n",
    "from authlib.oauth2.rfc7523 import PrivateKeyJWT\n",
    "from authlib.jose import JsonWebKey\n",
    "import json\n",
    "\n",
    "token_url = \"https://oidc.nersc.gov/c2id/token\"\n",
    "# perlmutter\n",
    "client_id = 'b32qotj4i6upw'\n",
    "key_file_jwk = training+\"/priv_key.jwk\"\n",
    "key_file_pem = training+\"/priv_key.pem\"\n",
    "key_file = key_file_pem\n",
    "\n",
    "with open(key_file_pem) as kf:\n",
    "    client_secret = kf.read()\n",
    "    kf.close()\n",
    "\n",
    "client = OAuth2Session(client_id=client_id,\n",
    "                        client_secret=client_secret, \n",
    "                        token_endpoint_auth_method=\"private_key_jwt\")\n",
    "client.register_client_auth_method(PrivateKeyJWT(token_url))\n",
    "resp = client.fetch_token(token_url, grant_type=\"client_credentials\")\n",
    "token = resp[\"access_token\"]\n",
    "jwt = token\n",
    "print(json.dumps(resp,indent=2))"
   ]
  },
  {
   "cell_type": "markdown",
   "metadata": {},
   "source": [
    "### Before we start any computing, let's check which systems are up."
   ]
  },
  {
   "cell_type": "code",
   "execution_count": null,
   "metadata": {},
   "outputs": [],
   "source": [
    "r = client.get(\"https://api.nersc.gov/api/v1.2/status/perlmutter\")\n",
    "print(json.dumps(r.json(),indent=2))"
   ]
  },
  {
   "cell_type": "code",
   "execution_count": null,
   "metadata": {},
   "outputs": [],
   "source": [
    "health = client.get(API_URL+\"/status/perlmutter\").json()\n",
    "print(health['full_name'], health['status'])\n",
    "health = client.get(API_URL+\"/status/dtns\").json()\n",
    "print(health['full_name'], health['status'])\n",
    "health = client.get(API_URL+\"/status/community_filesystem\").json()\n",
    "print(health['full_name'], health['status'])\n",
    "health = client.get(API_URL+\"/status/globus\").json()\n",
    "print(health['full_name'], health['status'])"
   ]
  },
  {
   "cell_type": "markdown",
   "metadata": {},
   "source": [
    "### We can also take a look into the future to better plan our work around planned outages. "
   ]
  },
  {
   "cell_type": "code",
   "execution_count": null,
   "metadata": {},
   "outputs": [],
   "source": [
    "planned_outages = client.get(API_URL+\"/status/outages/planned/perlmutter\").json()\n",
    "print(json.dumps(planned_outages,indent=2))"
   ]
  },
  {
   "cell_type": "markdown",
   "metadata": {},
   "source": [
    "### Now let's create a job script in the sfapi_training folder"
   ]
  },
  {
   "cell_type": "code",
   "execution_count": null,
   "metadata": {},
   "outputs": [],
   "source": [
    "job_script = \"\"\"#!/bin/bash -l\n",
    "\n",
    "#SBATCH -q debug\n",
    "#SBATCH -A nstaff\n",
    "#SBATCH -N 1\n",
    "#SBATCH -C cpu\n",
    "#SBATCH --tasks-per-node=32\n",
    "#SBATCH -t 00:10:00\n",
    "#SBATCH --exclusive\n",
    "\n",
    "module load python\n",
    "\n",
    "hostname\n",
    "sleep 20\n",
    "srun -n 1 python -c \"print('Finished')\"\n",
    "\"\"\" \n",
    "job_file = training + \"/job.sh\"\n",
    "print(job_file)"
   ]
  },
  {
   "cell_type": "code",
   "execution_count": null,
   "metadata": {},
   "outputs": [],
   "source": [
    "response = api(\"utilities/command/perlmutter\", { \"executable\": 'cat > {0} << EOF\\n{1}'.format(job_file,job_script)})\n",
    "if isinstance(response, Task):\n",
    "    print(response.wait_for_result()['output'].strip())"
   ]
  },
  {
   "cell_type": "markdown",
   "metadata": {},
   "source": [
    "### Check whether the file is there"
   ]
  },
  {
   "cell_type": "code",
   "execution_count": null,
   "metadata": {},
   "outputs": [],
   "source": [
    "ls_results = api(\"utilities/ls/perlmutter/\" + job_file)\n",
    "print(json.dumps(ls_results, indent=2))"
   ]
  },
  {
   "cell_type": "markdown",
   "metadata": {},
   "source": [
    "### Submit to queue"
   ]
  },
  {
   "cell_type": "code",
   "execution_count": null,
   "metadata": {},
   "outputs": [],
   "source": [
    "response = api(\"compute/jobs/perlmutter\", { \"job\": job_file, \"isPath\":\"true\"})\n",
    "if isinstance(response, Task):\n",
    "    jobid=response.wait_for_result()['jobid'].strip()"
   ]
  },
  {
   "cell_type": "markdown",
   "metadata": {},
   "source": [
    "### Check queue status, wait for job to complete."
   ]
  },
  {
   "cell_type": "code",
   "execution_count": null,
   "metadata": {
    "tags": []
   },
   "outputs": [],
   "source": [
    "#print(json.dumps(api(\"compute/jobs/perlmutter/\"+jobid+\"?sacct=true\"), indent=2))\n",
    "print(api(\"compute/jobs/perlmutter/\"+jobid+\"?sacct=true\")['output'][0]['state'])"
   ]
  },
  {
   "cell_type": "markdown",
   "metadata": {},
   "source": [
    "### Read from the slurm output file"
   ]
  },
  {
   "cell_type": "code",
   "execution_count": null,
   "metadata": {},
   "outputs": [],
   "source": [
    "slurmfile = home+\"/slurm-\"+jobid+\".out\"\n",
    "response = api(\"utilities/command/perlmutter\", { \"executable\": \"tail -n 20 \"+slurmfile })\n",
    "if isinstance(response, Task):\n",
    "    print(response.wait_for_result()['output'].strip())"
   ]
  },
  {
   "cell_type": "markdown",
   "metadata": {},
   "source": [
    "## Now to YOU...Try to run your own job! Or wait for the sfapi_client demos\n",
    "\n"
   ]
  },
  {
   "cell_type": "code",
   "execution_count": null,
   "metadata": {},
   "outputs": [],
   "source": []
  }
 ],
 "metadata": {
  "kernelspec": {
   "display_name": "NERSC Python",
   "language": "python",
   "name": "python3"
  },
  "language_info": {
   "codemirror_mode": {
    "name": "ipython",
    "version": 3
   },
   "file_extension": ".py",
   "mimetype": "text/x-python",
   "name": "python",
   "nbconvert_exporter": "python",
   "pygments_lexer": "ipython3",
   "version": "3.9.7"
  }
 },
 "nbformat": 4,
 "nbformat_minor": 4
}
